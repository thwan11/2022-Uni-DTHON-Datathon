{
  "nbformat": 4,
  "nbformat_minor": 0,
  "metadata": {
    "colab": {
      "provenance": [],
      "collapsed_sections": []
    },
    "kernelspec": {
      "name": "python3",
      "display_name": "Python 3"
    },
    "language_info": {
      "name": "python"
    },
    "accelerator": "GPU",
    "gpuClass": "standard"
  },
  "cells": [
    {
      "cell_type": "code",
      "source": [
        "from google.colab import drive\n",
        "drive.mount('/content/drive')"
      ],
      "metadata": {
        "colab": {
          "base_uri": "https://localhost:8080/"
        },
        "id": "WIiwaCuSBz1z",
        "outputId": "daa3fc5e-a737-4d2e-ac58-748bfc6d1594"
      },
      "execution_count": 1,
      "outputs": [
        {
          "output_type": "stream",
          "name": "stdout",
          "text": [
            "Mounted at /content/drive\n"
          ]
        }
      ]
    },
    {
      "cell_type": "code",
      "execution_count": 2,
      "metadata": {
        "id": "qx1M8kHExmec"
      },
      "outputs": [],
      "source": [
        "import pandas as pd\n",
        "from pathlib import Path\n",
        "import matplotlib.pyplot as plt\n",
        "import numpy as np\n",
        "import pandas as pd\n",
        "import warnings\n",
        "import random\n",
        "warnings.filterwarnings(\"ignore\")\n"
      ]
    },
    {
      "cell_type": "code",
      "source": [
        "# 파일 불러오기\n",
        "def dataframe_from_csv(target):\n",
        "  return pd.read_csv(target).rename(columns=lambda x:x.strip())\n",
        "\n",
        "def dataframe_from_csvs(targets):\n",
        "  return pd.concat([dataframe_from_csv(x) for x in targets])\n",
        "\n",
        "train_files = sorted([x for x in Path('/content/drive/MyDrive/AIFactory/Unid/data/train/').glob('*.csv')])\n",
        "val_files = sorted([x for x in Path('/content/drive/MyDrive/AIFactory/Unid/data/val/').glob('*.csv')])\n",
        "\n",
        "train = dataframe_from_csvs(train_files)\n",
        "val = dataframe_from_csvs(val_files)\n",
        "test = pd.read_csv('/content/drive/MyDrive/AIFactory/Unid/data/test.csv')\n",
        "print(f'train: {len(train)}')\n",
        "print(f'validation: {len(val)}')\n",
        "print(f'test: {len(test)}')"
      ],
      "metadata": {
        "id": "5ECozOjVx62g",
        "colab": {
          "base_uri": "https://localhost:8080/"
        },
        "outputId": "fbd4a2b5-906b-40b6-a817-68ebece2e483"
      },
      "execution_count": 3,
      "outputs": [
        {
          "output_type": "stream",
          "name": "stdout",
          "text": [
            "train: 62564\n",
            "validation: 7820\n",
            "test: 7820\n"
          ]
        }
      ]
    },
    {
      "cell_type": "code",
      "source": [
        "df = train.copy()\n",
        "# target과 feature간의 상관계수를 보기 위한 변환\n",
        "df['leaktype'].replace(['out','in','noise','other','normal'], [0,1,2,3,4], inplace=True)\n",
        "# 상관계수가 0.05미만인 feature\n",
        "under005 = df.corr()['leaktype'][np.abs(df.corr()['leaktype']) < 0.05].index[1:]\n",
        "under005"
      ],
      "metadata": {
        "colab": {
          "base_uri": "https://localhost:8080/"
        },
        "id": "jb_Hw6-rmCDu",
        "outputId": "7d70bcd4-b4e3-4de9-b795-258aa52b765c"
      },
      "execution_count": 4,
      "outputs": [
        {
          "output_type": "execute_result",
          "data": {
            "text/plain": [
              "Index(['C12', 'C13', 'C15', 'C16', 'C17', 'C18', 'C25'], dtype='object')"
            ]
          },
          "metadata": {},
          "execution_count": 4
        }
      ]
    },
    {
      "cell_type": "code",
      "source": [
        "# 삭제할 feature 리스트에 상관계수가 0.05미만인 feature, 'site', 'sid'추가\n",
        "drops = under005.to_list()\n",
        "drops.append('site')\n",
        "drops.append('sid')\n",
        "drops"
      ],
      "metadata": {
        "colab": {
          "base_uri": "https://localhost:8080/"
        },
        "id": "7w4eG-ZWmDXN",
        "outputId": "45250c85-32ba-4027-b882-027640574352"
      },
      "execution_count": 5,
      "outputs": [
        {
          "output_type": "execute_result",
          "data": {
            "text/plain": [
              "['C12', 'C13', 'C15', 'C16', 'C17', 'C18', 'C25', 'site', 'sid']"
            ]
          },
          "metadata": {},
          "execution_count": 5
        }
      ]
    },
    {
      "cell_type": "code",
      "source": [
        "# Disregard columns with high difference from the others (C02, C26) and calculate the variance amongst the remaining columns\n",
        "\n",
        "k = list(train.columns)\n",
        "k.pop(0)\n",
        "k.pop(0)\n",
        "k.pop(0)\n",
        "k.pop(1)\n",
        "k.pop(24)\n",
        "\n",
        "train[\"var\"] = train[k].T.var()\n",
        "val[\"var\"] = val[k].T.var()\n",
        "test[\"var\"] = test[k].T.var()"
      ],
      "metadata": {
        "id": "Y1PzH2RVIxLg"
      },
      "execution_count": 6,
      "outputs": []
    },
    {
      "cell_type": "code",
      "source": [
        "# One-Hot Encode Sites\n",
        "\n",
        "sites = list(train[\"site\"].value_counts().index)[:1000]\n",
        "for site in sites:\n",
        "  train[site] = train[\"site\"].apply(lambda x : int(x == site))\n",
        "  val[site] = val[\"site\"].apply(lambda x : int(x == site))\n",
        "  test[site] = test[\"site\"].apply(lambda x : int(x == site))  "
      ],
      "metadata": {
        "id": "kNPyvT7hHjOY"
      },
      "execution_count": 7,
      "outputs": []
    },
    {
      "cell_type": "code",
      "source": [
        "train[\"sid\"].value_counts()[:500]"
      ],
      "metadata": {
        "colab": {
          "base_uri": "https://localhost:8080/"
        },
        "id": "qbjEWGNAawrX",
        "outputId": "2dacb6b5-bdb2-4de1-f51d-42f59c0d8ef2"
      },
      "execution_count": 8,
      "outputs": [
        {
          "output_type": "execute_result",
          "data": {
            "text/plain": [
              "S-0359369081383008    131\n",
              "S-0359369084269204    118\n",
              "S-0359369084047519     99\n",
              "S-0359369084035613     99\n",
              "S-0359369085126635     95\n",
              "                     ... \n",
              "S-0359369085183693     46\n",
              "S-0359369083971081     46\n",
              "S-0359369085125785     46\n",
              "S-0359369084109822     46\n",
              "S-0359369084051016     46\n",
              "Name: sid, Length: 500, dtype: int64"
            ]
          },
          "metadata": {},
          "execution_count": 8
        }
      ]
    },
    {
      "cell_type": "code",
      "source": [
        "# One-Hot Encode SIDs\n",
        "\n",
        "from tqdm import tqdm\n",
        "\n",
        "sid = list(train[\"sid\"].value_counts().index)\n",
        "for si in tqdm(sid):\n",
        "  train[si] = train[\"sid\"].apply(lambda x : int(x == si))\n",
        "  val[si] = val[\"sid\"].apply(lambda x : int(x == si))\n",
        "  test[si] = test[\"sid\"].apply(lambda x : int(x == si))"
      ],
      "metadata": {
        "id": "2sGhvvdvaLAN",
        "colab": {
          "base_uri": "https://localhost:8080/"
        },
        "outputId": "532a49c0-6a26-4cf6-fa17-9b1aa6315d33"
      },
      "execution_count": 9,
      "outputs": [
        {
          "output_type": "stream",
          "name": "stderr",
          "text": [
            "100%|██████████| 2671/2671 [01:27<00:00, 30.36it/s]\n"
          ]
        }
      ]
    },
    {
      "cell_type": "code",
      "source": [
        "# 미리 지정한 feature 삭제 후 target encoding\n",
        "train = train.drop(drops, axis=1)\n",
        "val = val.drop(drops, axis=1)\n",
        "test = test.drop(drops, axis=1)\n",
        "train['leaktype'].replace(['out','in','noise','other','normal'], [0,1,2,3,4], inplace=True)\n",
        "val['leaktype'].replace(['out','in','noise','other','normal'], [0,1,2,3,4], inplace=True)\n",
        "test['leaktype']=\"\"\n",
        "\n",
        "# 데이터셋들을을 target과 feature로 나눠줍니다.\n",
        "train_x=train.drop(['leaktype'], axis=1)\n",
        "train_y=train['leaktype']\n",
        "val_x=val.drop(['leaktype'], axis=1)\n",
        "val_y=val['leaktype']\n",
        "test_x=test.drop(['leaktype'], axis=1)\n",
        "test_y=test['leaktype']\n"
      ],
      "metadata": {
        "id": "TcYDHnNZx636"
      },
      "execution_count": 10,
      "outputs": []
    },
    {
      "cell_type": "code",
      "source": [
        "# 데이터셋 표준화\n",
        "from sklearn.preprocessing import StandardScaler, RobustScaler\n",
        "\n",
        "#scaler정의\n",
        "scaler = StandardScaler()\n",
        "cols = train_x.select_dtypes(np.number).columns\n",
        "#train data에 scaler를 fit\n",
        "scaler.fit(train_x[cols])\n",
        "\n",
        "#train data 변환\n",
        "train_x[cols] = scaler.transform(train_x[cols])\n",
        "#train data 변환\n",
        "val_x[cols] = scaler.transform(val_x[cols])\n",
        "#train data 변환\n",
        "test_x[cols] = scaler.transform(test_x[cols])"
      ],
      "metadata": {
        "id": "sReQHfG5UzuM"
      },
      "execution_count": 11,
      "outputs": []
    },
    {
      "cell_type": "markdown",
      "source": [
        "9968\n",
        "n_estimators = 500\n",
        "max_depth = 18\n",
        "learning_rate = 0.1\n",
        "subsample = 0.7\n",
        "min_child_weight = 0.2\n",
        "min_split_loss = 3\n",
        "reg_lambda = 0.25"
      ],
      "metadata": {
        "id": "_7hQpVL6TBAr"
      }
    },
    {
      "cell_type": "code",
      "source": [
        "# XGBoost로 학습\n",
        "import xgboost as xgb\n",
        "import random\n",
        "\n",
        "random.seed(1004)\n",
        "\n",
        "n_estimators = 500  # 생성할 weak learner 수\n",
        "max_depth = 18  # 깊이 제한\n",
        "learning_rate = 0.1 # 학습률\n",
        "subsample = 0.7 # 데이터 샘플링 비율 지정(과적합 제어)\n",
        "min_child_weight = 0.2  # 관측치에 대한 가중치 합의 최소\n",
        "min_split_loss = 3  # 값이 클수록 과적합 감소효과\n",
        "reg_lambda = 0.25   # L2 Regularization 적용\n",
        "\n",
        "model1 = xgb.XGBClassifier(n_estimators=n_estimators, max_depth = max_depth, learning_rate=learning_rate, subsample=subsample, tree_method=\"gpu_hist\", min_child_weight=min_child_weight, min_split_loss=min_split_loss, reg_lambda=reg_lambda)\n",
        "setattr(model1, 'verbosity', 2)\n",
        "\n",
        "# 학습\n",
        "train_model = model1.fit(train_x, train_y)"
      ],
      "metadata": {
        "id": "CQNutCefU25c"
      },
      "execution_count": 12,
      "outputs": []
    },
    {
      "cell_type": "code",
      "source": [
        "from sklearn.metrics import classification_report\n",
        "\n",
        "# validation set 예측\n",
        "pred1 = train_model.predict(val_x)\n",
        "\n",
        "print(classification_report(val_y, pred1))"
      ],
      "metadata": {
        "id": "XfYr940OYpnE",
        "colab": {
          "base_uri": "https://localhost:8080/"
        },
        "outputId": "d54433a9-e75e-4485-8594-b513ad375217"
      },
      "execution_count": 13,
      "outputs": [
        {
          "output_type": "stream",
          "name": "stdout",
          "text": [
            "              precision    recall  f1-score   support\n",
            "\n",
            "           0       1.00      1.00      1.00      2192\n",
            "           1       0.99      1.00      1.00      1659\n",
            "           2       1.00      1.00      1.00       629\n",
            "           3       1.00      0.99      0.99       878\n",
            "           4       1.00      1.00      1.00      2462\n",
            "\n",
            "    accuracy                           1.00      7820\n",
            "   macro avg       1.00      1.00      1.00      7820\n",
            "weighted avg       1.00      1.00      1.00      7820\n",
            "\n"
          ]
        }
      ]
    },
    {
      "cell_type": "code",
      "source": [
        "from sklearn.metrics import f1_score\n",
        "f1_score(val_y, pred1, average='macro')"
      ],
      "metadata": {
        "id": "-uKsIxEJJEJh",
        "colab": {
          "base_uri": "https://localhost:8080/"
        },
        "outputId": "621a684b-0b30-4ffb-8af6-02ea41066959"
      },
      "execution_count": 14,
      "outputs": [
        {
          "output_type": "execute_result",
          "data": {
            "text/plain": [
              "0.9968368969340915"
            ]
          },
          "metadata": {},
          "execution_count": 14
        }
      ]
    },
    {
      "cell_type": "code",
      "source": [
        "# test set 예측\n",
        "test_pred = train_model.predict(test_x)"
      ],
      "metadata": {
        "id": "o-zYnq9SxkKX"
      },
      "execution_count": 15,
      "outputs": []
    },
    {
      "cell_type": "code",
      "source": [
        "# 제출파일 생성\n",
        "submission = pd.read_csv('/content/drive/MyDrive/AIFactory/Unid/data/sample_submission.csv')\n",
        "submission['leaktype']=test_pred\n",
        "submission"
      ],
      "metadata": {
        "colab": {
          "base_uri": "https://localhost:8080/",
          "height": 424
        },
        "id": "jM7OU-fIYDXR",
        "outputId": "2ed41bba-be19-4851-b715-b383bd67c7e6"
      },
      "execution_count": 16,
      "outputs": [
        {
          "output_type": "execute_result",
          "data": {
            "text/plain": [
              "              site                 sid  leaktype\n",
              "0     S-4784025026  S-0359369085186035         1\n",
              "1     S-4521010100  S-0359369084102843         4\n",
              "2     S-2911010107  S-0359369084039755         4\n",
              "3     S-2711010100  S-0359369084044425         0\n",
              "4     S-4677025033  S-0359369083955449         0\n",
              "...            ...                 ...       ...\n",
              "7815  S-4677025029  S-0359369081312577         1\n",
              "7816  S-4772025022  S-0359369084106224         3\n",
              "7817  S-4673025027  S-0359369085149850         0\n",
              "7818  S-4571025029  S-0359369084043617         4\n",
              "7819  S-4784025026  S-0359369085191258         1\n",
              "\n",
              "[7820 rows x 3 columns]"
            ],
            "text/html": [
              "\n",
              "  <div id=\"df-b968c3fd-102a-4662-ad06-f0c750c130c5\">\n",
              "    <div class=\"colab-df-container\">\n",
              "      <div>\n",
              "<style scoped>\n",
              "    .dataframe tbody tr th:only-of-type {\n",
              "        vertical-align: middle;\n",
              "    }\n",
              "\n",
              "    .dataframe tbody tr th {\n",
              "        vertical-align: top;\n",
              "    }\n",
              "\n",
              "    .dataframe thead th {\n",
              "        text-align: right;\n",
              "    }\n",
              "</style>\n",
              "<table border=\"1\" class=\"dataframe\">\n",
              "  <thead>\n",
              "    <tr style=\"text-align: right;\">\n",
              "      <th></th>\n",
              "      <th>site</th>\n",
              "      <th>sid</th>\n",
              "      <th>leaktype</th>\n",
              "    </tr>\n",
              "  </thead>\n",
              "  <tbody>\n",
              "    <tr>\n",
              "      <th>0</th>\n",
              "      <td>S-4784025026</td>\n",
              "      <td>S-0359369085186035</td>\n",
              "      <td>1</td>\n",
              "    </tr>\n",
              "    <tr>\n",
              "      <th>1</th>\n",
              "      <td>S-4521010100</td>\n",
              "      <td>S-0359369084102843</td>\n",
              "      <td>4</td>\n",
              "    </tr>\n",
              "    <tr>\n",
              "      <th>2</th>\n",
              "      <td>S-2911010107</td>\n",
              "      <td>S-0359369084039755</td>\n",
              "      <td>4</td>\n",
              "    </tr>\n",
              "    <tr>\n",
              "      <th>3</th>\n",
              "      <td>S-2711010100</td>\n",
              "      <td>S-0359369084044425</td>\n",
              "      <td>0</td>\n",
              "    </tr>\n",
              "    <tr>\n",
              "      <th>4</th>\n",
              "      <td>S-4677025033</td>\n",
              "      <td>S-0359369083955449</td>\n",
              "      <td>0</td>\n",
              "    </tr>\n",
              "    <tr>\n",
              "      <th>...</th>\n",
              "      <td>...</td>\n",
              "      <td>...</td>\n",
              "      <td>...</td>\n",
              "    </tr>\n",
              "    <tr>\n",
              "      <th>7815</th>\n",
              "      <td>S-4677025029</td>\n",
              "      <td>S-0359369081312577</td>\n",
              "      <td>1</td>\n",
              "    </tr>\n",
              "    <tr>\n",
              "      <th>7816</th>\n",
              "      <td>S-4772025022</td>\n",
              "      <td>S-0359369084106224</td>\n",
              "      <td>3</td>\n",
              "    </tr>\n",
              "    <tr>\n",
              "      <th>7817</th>\n",
              "      <td>S-4673025027</td>\n",
              "      <td>S-0359369085149850</td>\n",
              "      <td>0</td>\n",
              "    </tr>\n",
              "    <tr>\n",
              "      <th>7818</th>\n",
              "      <td>S-4571025029</td>\n",
              "      <td>S-0359369084043617</td>\n",
              "      <td>4</td>\n",
              "    </tr>\n",
              "    <tr>\n",
              "      <th>7819</th>\n",
              "      <td>S-4784025026</td>\n",
              "      <td>S-0359369085191258</td>\n",
              "      <td>1</td>\n",
              "    </tr>\n",
              "  </tbody>\n",
              "</table>\n",
              "<p>7820 rows × 3 columns</p>\n",
              "</div>\n",
              "      <button class=\"colab-df-convert\" onclick=\"convertToInteractive('df-b968c3fd-102a-4662-ad06-f0c750c130c5')\"\n",
              "              title=\"Convert this dataframe to an interactive table.\"\n",
              "              style=\"display:none;\">\n",
              "        \n",
              "  <svg xmlns=\"http://www.w3.org/2000/svg\" height=\"24px\"viewBox=\"0 0 24 24\"\n",
              "       width=\"24px\">\n",
              "    <path d=\"M0 0h24v24H0V0z\" fill=\"none\"/>\n",
              "    <path d=\"M18.56 5.44l.94 2.06.94-2.06 2.06-.94-2.06-.94-.94-2.06-.94 2.06-2.06.94zm-11 1L8.5 8.5l.94-2.06 2.06-.94-2.06-.94L8.5 2.5l-.94 2.06-2.06.94zm10 10l.94 2.06.94-2.06 2.06-.94-2.06-.94-.94-2.06-.94 2.06-2.06.94z\"/><path d=\"M17.41 7.96l-1.37-1.37c-.4-.4-.92-.59-1.43-.59-.52 0-1.04.2-1.43.59L10.3 9.45l-7.72 7.72c-.78.78-.78 2.05 0 2.83L4 21.41c.39.39.9.59 1.41.59.51 0 1.02-.2 1.41-.59l7.78-7.78 2.81-2.81c.8-.78.8-2.07 0-2.86zM5.41 20L4 18.59l7.72-7.72 1.47 1.35L5.41 20z\"/>\n",
              "  </svg>\n",
              "      </button>\n",
              "      \n",
              "  <style>\n",
              "    .colab-df-container {\n",
              "      display:flex;\n",
              "      flex-wrap:wrap;\n",
              "      gap: 12px;\n",
              "    }\n",
              "\n",
              "    .colab-df-convert {\n",
              "      background-color: #E8F0FE;\n",
              "      border: none;\n",
              "      border-radius: 50%;\n",
              "      cursor: pointer;\n",
              "      display: none;\n",
              "      fill: #1967D2;\n",
              "      height: 32px;\n",
              "      padding: 0 0 0 0;\n",
              "      width: 32px;\n",
              "    }\n",
              "\n",
              "    .colab-df-convert:hover {\n",
              "      background-color: #E2EBFA;\n",
              "      box-shadow: 0px 1px 2px rgba(60, 64, 67, 0.3), 0px 1px 3px 1px rgba(60, 64, 67, 0.15);\n",
              "      fill: #174EA6;\n",
              "    }\n",
              "\n",
              "    [theme=dark] .colab-df-convert {\n",
              "      background-color: #3B4455;\n",
              "      fill: #D2E3FC;\n",
              "    }\n",
              "\n",
              "    [theme=dark] .colab-df-convert:hover {\n",
              "      background-color: #434B5C;\n",
              "      box-shadow: 0px 1px 3px 1px rgba(0, 0, 0, 0.15);\n",
              "      filter: drop-shadow(0px 1px 2px rgba(0, 0, 0, 0.3));\n",
              "      fill: #FFFFFF;\n",
              "    }\n",
              "  </style>\n",
              "\n",
              "      <script>\n",
              "        const buttonEl =\n",
              "          document.querySelector('#df-b968c3fd-102a-4662-ad06-f0c750c130c5 button.colab-df-convert');\n",
              "        buttonEl.style.display =\n",
              "          google.colab.kernel.accessAllowed ? 'block' : 'none';\n",
              "\n",
              "        async function convertToInteractive(key) {\n",
              "          const element = document.querySelector('#df-b968c3fd-102a-4662-ad06-f0c750c130c5');\n",
              "          const dataTable =\n",
              "            await google.colab.kernel.invokeFunction('convertToInteractive',\n",
              "                                                     [key], {});\n",
              "          if (!dataTable) return;\n",
              "\n",
              "          const docLinkHtml = 'Like what you see? Visit the ' +\n",
              "            '<a target=\"_blank\" href=https://colab.research.google.com/notebooks/data_table.ipynb>data table notebook</a>'\n",
              "            + ' to learn more about interactive tables.';\n",
              "          element.innerHTML = '';\n",
              "          dataTable['output_type'] = 'display_data';\n",
              "          await google.colab.output.renderOutput(dataTable, element);\n",
              "          const docLink = document.createElement('div');\n",
              "          docLink.innerHTML = docLinkHtml;\n",
              "          element.appendChild(docLink);\n",
              "        }\n",
              "      </script>\n",
              "    </div>\n",
              "  </div>\n",
              "  "
            ]
          },
          "metadata": {},
          "execution_count": 16
        }
      ]
    },
    {
      "cell_type": "code",
      "source": [
        "submission.to_csv('submission9968.csv', index=False)"
      ],
      "metadata": {
        "id": "dyCeh4sJYHqD"
      },
      "execution_count": 17,
      "outputs": []
    },
    {
      "cell_type": "code",
      "source": [],
      "metadata": {
        "id": "5rX8JysL0lZK"
      },
      "execution_count": null,
      "outputs": []
    }
  ]
}